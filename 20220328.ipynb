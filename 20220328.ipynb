{
  "nbformat": 4,
  "nbformat_minor": 0,
  "metadata": {
    "colab": {
      "name": "20220328.ipynb",
      "provenance": [],
      "collapsed_sections": [],
      "authorship_tag": "ABX9TyPf7GgeghdYfAnB0j2bRE/d",
      "include_colab_link": true
    },
    "kernelspec": {
      "name": "python3",
      "display_name": "Python 3"
    },
    "language_info": {
      "name": "python"
    }
  },
  "cells": [
    {
      "cell_type": "markdown",
      "metadata": {
        "id": "view-in-github",
        "colab_type": "text"
      },
      "source": [
        "<a href=\"https://colab.research.google.com/github/Taewhoo/class2022Spring/blob/main/20220328.ipynb\" target=\"_parent\"><img src=\"https://colab.research.google.com/assets/colab-badge.svg\" alt=\"Open In Colab\"/></a>"
      ]
    },
    {
      "cell_type": "code",
      "execution_count": 1,
      "metadata": {
        "colab": {
          "base_uri": "https://localhost:8080/"
        },
        "id": "Xp2zzak_6yjS",
        "outputId": "cb28cab9-0495-413c-e173-9ccd1028e2f2"
      },
      "outputs": [
        {
          "output_type": "stream",
          "name": "stdout",
          "text": [
            "Collecting gradio\n",
            "  Downloading gradio-2.8.14-py3-none-any.whl (668 kB)\n",
            "\u001b[?25l\r\u001b[K     |▌                               | 10 kB 17.3 MB/s eta 0:00:01\r\u001b[K     |█                               | 20 kB 21.9 MB/s eta 0:00:01\r\u001b[K     |█▌                              | 30 kB 25.5 MB/s eta 0:00:01\r\u001b[K     |██                              | 40 kB 14.1 MB/s eta 0:00:01\r\u001b[K     |██▌                             | 51 kB 12.1 MB/s eta 0:00:01\r\u001b[K     |███                             | 61 kB 13.8 MB/s eta 0:00:01\r\u001b[K     |███▍                            | 71 kB 12.8 MB/s eta 0:00:01\r\u001b[K     |████                            | 81 kB 11.3 MB/s eta 0:00:01\r\u001b[K     |████▍                           | 92 kB 12.2 MB/s eta 0:00:01\r\u001b[K     |█████                           | 102 kB 13.1 MB/s eta 0:00:01\r\u001b[K     |█████▍                          | 112 kB 13.1 MB/s eta 0:00:01\r\u001b[K     |█████▉                          | 122 kB 13.1 MB/s eta 0:00:01\r\u001b[K     |██████▍                         | 133 kB 13.1 MB/s eta 0:00:01\r\u001b[K     |██████▉                         | 143 kB 13.1 MB/s eta 0:00:01\r\u001b[K     |███████▍                        | 153 kB 13.1 MB/s eta 0:00:01\r\u001b[K     |███████▉                        | 163 kB 13.1 MB/s eta 0:00:01\r\u001b[K     |████████▎                       | 174 kB 13.1 MB/s eta 0:00:01\r\u001b[K     |████████▉                       | 184 kB 13.1 MB/s eta 0:00:01\r\u001b[K     |█████████▎                      | 194 kB 13.1 MB/s eta 0:00:01\r\u001b[K     |█████████▉                      | 204 kB 13.1 MB/s eta 0:00:01\r\u001b[K     |██████████▎                     | 215 kB 13.1 MB/s eta 0:00:01\r\u001b[K     |██████████▉                     | 225 kB 13.1 MB/s eta 0:00:01\r\u001b[K     |███████████▎                    | 235 kB 13.1 MB/s eta 0:00:01\r\u001b[K     |███████████▊                    | 245 kB 13.1 MB/s eta 0:00:01\r\u001b[K     |████████████▎                   | 256 kB 13.1 MB/s eta 0:00:01\r\u001b[K     |████████████▊                   | 266 kB 13.1 MB/s eta 0:00:01\r\u001b[K     |█████████████▎                  | 276 kB 13.1 MB/s eta 0:00:01\r\u001b[K     |█████████████▊                  | 286 kB 13.1 MB/s eta 0:00:01\r\u001b[K     |██████████████▏                 | 296 kB 13.1 MB/s eta 0:00:01\r\u001b[K     |██████████████▊                 | 307 kB 13.1 MB/s eta 0:00:01\r\u001b[K     |███████████████▏                | 317 kB 13.1 MB/s eta 0:00:01\r\u001b[K     |███████████████▊                | 327 kB 13.1 MB/s eta 0:00:01\r\u001b[K     |████████████████▏               | 337 kB 13.1 MB/s eta 0:00:01\r\u001b[K     |████████████████▋               | 348 kB 13.1 MB/s eta 0:00:01\r\u001b[K     |█████████████████▏              | 358 kB 13.1 MB/s eta 0:00:01\r\u001b[K     |█████████████████▋              | 368 kB 13.1 MB/s eta 0:00:01\r\u001b[K     |██████████████████▏             | 378 kB 13.1 MB/s eta 0:00:01\r\u001b[K     |██████████████████▋             | 389 kB 13.1 MB/s eta 0:00:01\r\u001b[K     |███████████████████▏            | 399 kB 13.1 MB/s eta 0:00:01\r\u001b[K     |███████████████████▋            | 409 kB 13.1 MB/s eta 0:00:01\r\u001b[K     |████████████████████            | 419 kB 13.1 MB/s eta 0:00:01\r\u001b[K     |████████████████████▋           | 430 kB 13.1 MB/s eta 0:00:01\r\u001b[K     |█████████████████████           | 440 kB 13.1 MB/s eta 0:00:01\r\u001b[K     |█████████████████████▋          | 450 kB 13.1 MB/s eta 0:00:01\r\u001b[K     |██████████████████████          | 460 kB 13.1 MB/s eta 0:00:01\r\u001b[K     |██████████████████████▌         | 471 kB 13.1 MB/s eta 0:00:01\r\u001b[K     |███████████████████████         | 481 kB 13.1 MB/s eta 0:00:01\r\u001b[K     |███████████████████████▌        | 491 kB 13.1 MB/s eta 0:00:01\r\u001b[K     |████████████████████████        | 501 kB 13.1 MB/s eta 0:00:01\r\u001b[K     |████████████████████████▌       | 512 kB 13.1 MB/s eta 0:00:01\r\u001b[K     |█████████████████████████       | 522 kB 13.1 MB/s eta 0:00:01\r\u001b[K     |█████████████████████████▌      | 532 kB 13.1 MB/s eta 0:00:01\r\u001b[K     |██████████████████████████      | 542 kB 13.1 MB/s eta 0:00:01\r\u001b[K     |██████████████████████████▌     | 552 kB 13.1 MB/s eta 0:00:01\r\u001b[K     |███████████████████████████     | 563 kB 13.1 MB/s eta 0:00:01\r\u001b[K     |███████████████████████████▍    | 573 kB 13.1 MB/s eta 0:00:01\r\u001b[K     |████████████████████████████    | 583 kB 13.1 MB/s eta 0:00:01\r\u001b[K     |████████████████████████████▍   | 593 kB 13.1 MB/s eta 0:00:01\r\u001b[K     |█████████████████████████████   | 604 kB 13.1 MB/s eta 0:00:01\r\u001b[K     |█████████████████████████████▍  | 614 kB 13.1 MB/s eta 0:00:01\r\u001b[K     |██████████████████████████████  | 624 kB 13.1 MB/s eta 0:00:01\r\u001b[K     |██████████████████████████████▍ | 634 kB 13.1 MB/s eta 0:00:01\r\u001b[K     |██████████████████████████████▉ | 645 kB 13.1 MB/s eta 0:00:01\r\u001b[K     |███████████████████████████████▍| 655 kB 13.1 MB/s eta 0:00:01\r\u001b[K     |███████████████████████████████▉| 665 kB 13.1 MB/s eta 0:00:01\r\u001b[K     |████████████████████████████████| 668 kB 13.1 MB/s \n",
            "\u001b[?25hCollecting python-multipart\n",
            "  Downloading python-multipart-0.0.5.tar.gz (32 kB)\n",
            "Requirement already satisfied: matplotlib in /usr/local/lib/python3.7/dist-packages (from gradio) (3.2.2)\n",
            "Collecting aiohttp\n",
            "  Downloading aiohttp-3.8.1-cp37-cp37m-manylinux_2_5_x86_64.manylinux1_x86_64.manylinux_2_12_x86_64.manylinux2010_x86_64.whl (1.1 MB)\n",
            "\u001b[K     |████████████████████████████████| 1.1 MB 37.8 MB/s \n",
            "\u001b[?25hCollecting paramiko\n",
            "  Downloading paramiko-2.10.3-py2.py3-none-any.whl (211 kB)\n",
            "\u001b[K     |████████████████████████████████| 211 kB 60.9 MB/s \n",
            "\u001b[?25hRequirement already satisfied: numpy in /usr/local/lib/python3.7/dist-packages (from gradio) (1.21.5)\n",
            "Collecting fastapi\n",
            "  Downloading fastapi-0.75.0-py3-none-any.whl (54 kB)\n",
            "\u001b[K     |████████████████████████████████| 54 kB 2.6 MB/s \n",
            "\u001b[?25hRequirement already satisfied: pandas in /usr/local/lib/python3.7/dist-packages (from gradio) (1.3.5)\n",
            "Collecting markdown-it-py[linkify,plugins]\n",
            "  Downloading markdown_it_py-2.0.1-py3-none-any.whl (84 kB)\n",
            "\u001b[K     |████████████████████████████████| 84 kB 2.5 MB/s \n",
            "\u001b[?25hCollecting analytics-python\n",
            "  Downloading analytics_python-1.4.0-py2.py3-none-any.whl (15 kB)\n",
            "Requirement already satisfied: pillow in /usr/local/lib/python3.7/dist-packages (from gradio) (7.1.2)\n",
            "Collecting ffmpy\n",
            "  Downloading ffmpy-0.3.0.tar.gz (4.8 kB)\n",
            "Collecting pycryptodome\n",
            "  Downloading pycryptodome-3.14.1-cp35-abi3-manylinux2010_x86_64.whl (2.0 MB)\n",
            "\u001b[K     |████████████████████████████████| 2.0 MB 55.9 MB/s \n",
            "\u001b[?25hCollecting uvicorn\n",
            "  Downloading uvicorn-0.17.6-py3-none-any.whl (53 kB)\n",
            "\u001b[K     |████████████████████████████████| 53 kB 2.1 MB/s \n",
            "\u001b[?25hCollecting pydub\n",
            "  Downloading pydub-0.25.1-py2.py3-none-any.whl (32 kB)\n",
            "Requirement already satisfied: requests in /usr/local/lib/python3.7/dist-packages (from gradio) (2.23.0)\n",
            "Collecting orjson\n",
            "  Downloading orjson-3.6.7-cp37-cp37m-manylinux_2_24_x86_64.whl (255 kB)\n",
            "\u001b[K     |████████████████████████████████| 255 kB 53.4 MB/s \n",
            "\u001b[?25hCollecting aiosignal>=1.1.2\n",
            "  Downloading aiosignal-1.2.0-py3-none-any.whl (8.2 kB)\n",
            "Collecting async-timeout<5.0,>=4.0.0a3\n",
            "  Downloading async_timeout-4.0.2-py3-none-any.whl (5.8 kB)\n",
            "Requirement already satisfied: charset-normalizer<3.0,>=2.0 in /usr/local/lib/python3.7/dist-packages (from aiohttp->gradio) (2.0.12)\n",
            "Collecting yarl<2.0,>=1.0\n",
            "  Downloading yarl-1.7.2-cp37-cp37m-manylinux_2_5_x86_64.manylinux1_x86_64.manylinux_2_12_x86_64.manylinux2010_x86_64.whl (271 kB)\n",
            "\u001b[K     |████████████████████████████████| 271 kB 59.2 MB/s \n",
            "\u001b[?25hCollecting multidict<7.0,>=4.5\n",
            "  Downloading multidict-6.0.2-cp37-cp37m-manylinux_2_17_x86_64.manylinux2014_x86_64.whl (94 kB)\n",
            "\u001b[K     |████████████████████████████████| 94 kB 3.5 MB/s \n",
            "\u001b[?25hRequirement already satisfied: typing-extensions>=3.7.4 in /usr/local/lib/python3.7/dist-packages (from aiohttp->gradio) (3.10.0.2)\n",
            "Requirement already satisfied: attrs>=17.3.0 in /usr/local/lib/python3.7/dist-packages (from aiohttp->gradio) (21.4.0)\n",
            "Collecting asynctest==0.13.0\n",
            "  Downloading asynctest-0.13.0-py3-none-any.whl (26 kB)\n",
            "Collecting frozenlist>=1.1.1\n",
            "  Downloading frozenlist-1.3.0-cp37-cp37m-manylinux_2_5_x86_64.manylinux1_x86_64.manylinux_2_17_x86_64.manylinux2014_x86_64.whl (144 kB)\n",
            "\u001b[K     |████████████████████████████████| 144 kB 47.8 MB/s \n",
            "\u001b[?25hRequirement already satisfied: idna>=2.0 in /usr/local/lib/python3.7/dist-packages (from yarl<2.0,>=1.0->aiohttp->gradio) (2.10)\n",
            "Requirement already satisfied: python-dateutil>2.1 in /usr/local/lib/python3.7/dist-packages (from analytics-python->gradio) (2.8.2)\n",
            "Collecting monotonic>=1.5\n",
            "  Downloading monotonic-1.6-py2.py3-none-any.whl (8.2 kB)\n",
            "Collecting backoff==1.10.0\n",
            "  Downloading backoff-1.10.0-py2.py3-none-any.whl (31 kB)\n",
            "Requirement already satisfied: six>=1.5 in /usr/local/lib/python3.7/dist-packages (from analytics-python->gradio) (1.15.0)\n",
            "Requirement already satisfied: chardet<4,>=3.0.2 in /usr/local/lib/python3.7/dist-packages (from requests->gradio) (3.0.4)\n",
            "Requirement already satisfied: urllib3!=1.25.0,!=1.25.1,<1.26,>=1.21.1 in /usr/local/lib/python3.7/dist-packages (from requests->gradio) (1.24.3)\n",
            "Requirement already satisfied: certifi>=2017.4.17 in /usr/local/lib/python3.7/dist-packages (from requests->gradio) (2021.10.8)\n",
            "Collecting starlette==0.17.1\n",
            "  Downloading starlette-0.17.1-py3-none-any.whl (58 kB)\n",
            "\u001b[K     |████████████████████████████████| 58 kB 5.3 MB/s \n",
            "\u001b[?25hCollecting pydantic!=1.7,!=1.7.1,!=1.7.2,!=1.7.3,!=1.8,!=1.8.1,<2.0.0,>=1.6.2\n",
            "  Downloading pydantic-1.9.0-cp37-cp37m-manylinux_2_17_x86_64.manylinux2014_x86_64.whl (10.9 MB)\n",
            "\u001b[K     |████████████████████████████████| 10.9 MB 53.3 MB/s \n",
            "\u001b[?25hCollecting anyio<4,>=3.0.0\n",
            "  Downloading anyio-3.5.0-py3-none-any.whl (79 kB)\n",
            "\u001b[K     |████████████████████████████████| 79 kB 7.3 MB/s \n",
            "\u001b[?25hCollecting sniffio>=1.1\n",
            "  Downloading sniffio-1.2.0-py3-none-any.whl (10 kB)\n",
            "Collecting mdurl~=0.1\n",
            "  Downloading mdurl-0.1.0-py3-none-any.whl (11 kB)\n",
            "Collecting linkify-it-py~=1.0\n",
            "  Downloading linkify_it_py-1.0.3-py3-none-any.whl (19 kB)\n",
            "Collecting mdit-py-plugins\n",
            "  Downloading mdit_py_plugins-0.3.0-py3-none-any.whl (43 kB)\n",
            "\u001b[K     |████████████████████████████████| 43 kB 1.9 MB/s \n",
            "\u001b[?25hCollecting uc-micro-py\n",
            "  Downloading uc_micro_py-1.0.1-py3-none-any.whl (6.2 kB)\n",
            "Requirement already satisfied: pyparsing!=2.0.4,!=2.1.2,!=2.1.6,>=2.0.1 in /usr/local/lib/python3.7/dist-packages (from matplotlib->gradio) (3.0.7)\n",
            "Requirement already satisfied: kiwisolver>=1.0.1 in /usr/local/lib/python3.7/dist-packages (from matplotlib->gradio) (1.4.0)\n",
            "Requirement already satisfied: cycler>=0.10 in /usr/local/lib/python3.7/dist-packages (from matplotlib->gradio) (0.11.0)\n",
            "Requirement already satisfied: pytz>=2017.3 in /usr/local/lib/python3.7/dist-packages (from pandas->gradio) (2018.9)\n",
            "Collecting cryptography>=2.5\n",
            "  Downloading cryptography-36.0.2-cp36-abi3-manylinux_2_24_x86_64.whl (3.6 MB)\n",
            "\u001b[K     |████████████████████████████████| 3.6 MB 60.3 MB/s \n",
            "\u001b[?25hCollecting bcrypt>=3.1.3\n",
            "  Downloading bcrypt-3.2.0-cp36-abi3-manylinux_2_17_x86_64.manylinux2014_x86_64.manylinux_2_24_x86_64.whl (61 kB)\n",
            "\u001b[K     |████████████████████████████████| 61 kB 411 kB/s \n",
            "\u001b[?25hCollecting pynacl>=1.0.1\n",
            "  Downloading PyNaCl-1.5.0-cp36-abi3-manylinux_2_17_x86_64.manylinux2014_x86_64.manylinux_2_24_x86_64.whl (856 kB)\n",
            "\u001b[K     |████████████████████████████████| 856 kB 66.1 MB/s \n",
            "\u001b[?25hRequirement already satisfied: cffi>=1.1 in /usr/local/lib/python3.7/dist-packages (from bcrypt>=3.1.3->paramiko->gradio) (1.15.0)\n",
            "Requirement already satisfied: pycparser in /usr/local/lib/python3.7/dist-packages (from cffi>=1.1->bcrypt>=3.1.3->paramiko->gradio) (2.21)\n",
            "Requirement already satisfied: click>=7.0 in /usr/local/lib/python3.7/dist-packages (from uvicorn->gradio) (7.1.2)\n",
            "Collecting h11>=0.8\n",
            "  Downloading h11-0.13.0-py3-none-any.whl (58 kB)\n",
            "\u001b[K     |████████████████████████████████| 58 kB 5.0 MB/s \n",
            "\u001b[?25hCollecting asgiref>=3.4.0\n",
            "  Downloading asgiref-3.5.0-py3-none-any.whl (22 kB)\n",
            "Building wheels for collected packages: ffmpy, python-multipart\n",
            "  Building wheel for ffmpy (setup.py) ... \u001b[?25l\u001b[?25hdone\n",
            "  Created wheel for ffmpy: filename=ffmpy-0.3.0-py3-none-any.whl size=4712 sha256=3456727728712e2750428ec735ccbd1fcdf0999f7a61634868ff957ccb1d77f3\n",
            "  Stored in directory: /root/.cache/pip/wheels/13/e4/6c/e8059816e86796a597c6e6b0d4c880630f51a1fcfa0befd5e6\n",
            "  Building wheel for python-multipart (setup.py) ... \u001b[?25l\u001b[?25hdone\n",
            "  Created wheel for python-multipart: filename=python_multipart-0.0.5-py3-none-any.whl size=31678 sha256=7f08173f31ac85ae8d71b3e1ffdbd983453301fcb8b881ea2a1a555e3ee2467f\n",
            "  Stored in directory: /root/.cache/pip/wheels/2c/41/7c/bfd1c180534ffdcc0972f78c5758f89881602175d48a8bcd2c\n",
            "Successfully built ffmpy python-multipart\n",
            "Installing collected packages: sniffio, mdurl, uc-micro-py, multidict, markdown-it-py, frozenlist, anyio, yarl, starlette, pynacl, pydantic, monotonic, mdit-py-plugins, linkify-it-py, h11, cryptography, bcrypt, backoff, asynctest, async-timeout, asgiref, aiosignal, uvicorn, python-multipart, pydub, pycryptodome, paramiko, orjson, ffmpy, fastapi, analytics-python, aiohttp, gradio\n",
            "Successfully installed aiohttp-3.8.1 aiosignal-1.2.0 analytics-python-1.4.0 anyio-3.5.0 asgiref-3.5.0 async-timeout-4.0.2 asynctest-0.13.0 backoff-1.10.0 bcrypt-3.2.0 cryptography-36.0.2 fastapi-0.75.0 ffmpy-0.3.0 frozenlist-1.3.0 gradio-2.8.14 h11-0.13.0 linkify-it-py-1.0.3 markdown-it-py-2.0.1 mdit-py-plugins-0.3.0 mdurl-0.1.0 monotonic-1.6 multidict-6.0.2 orjson-3.6.7 paramiko-2.10.3 pycryptodome-3.14.1 pydantic-1.9.0 pydub-0.25.1 pynacl-1.5.0 python-multipart-0.0.5 sniffio-1.2.0 starlette-0.17.1 uc-micro-py-1.0.1 uvicorn-0.17.6 yarl-1.7.2\n"
          ]
        }
      ],
      "source": [
        "!pip install gradio\n",
        "import gradio as gr\n",
        "import requests\n",
        "import pandas as pd"
      ]
    },
    {
      "cell_type": "code",
      "source": [
        "def meatsoup_price(townname): # 구미시 설렁탕 가격\n",
        "  town_price_dict = {}\n",
        "  url = \"http://apis.data.go.kr/5080000/pricesInfoService/getPricesInfo?serviceKey=uVimvNhm5b%2BmcQahYFmEMZOw7MG%2Fg9CMjNyATJ%2F80n6I%2BHbMjp5wm5iSIUCq5OCVGdhyGdAUltG%2FSLLwFttIVg%3D%3D&pageNo=1&numOfRows=10\"\n",
        "  response = requests.get(url)\n",
        "  r = response.json()\n",
        "  items = r['body']\n",
        "  \n",
        "  town_name = [item['se'] for item in items]\n",
        "  price = [item['pc'] for item in items]\n",
        "  for i in range(len(town_name)):\n",
        "    town_price_dict[town_name[i]] = price[i]\n",
        "  return town_price_dict[townname]\n",
        "\n",
        "iface = gr.Interface(\n",
        "    meatsoup_price,\n",
        "    inputs=\"text\",\n",
        "    outputs=\"text\",\n",
        "    examples=['선산읍', '고아읍', '송정 상모 사곡', '원평동 중앙시장', '도량 선주 원남', '형곡동', '신평 공단']\n",
        ")\n",
        "\n",
        "iface.launch(share=True)"
      ],
      "metadata": {
        "colab": {
          "base_uri": "https://localhost:8080/",
          "height": 647
        },
        "id": "K79mFN-G7CtB",
        "outputId": "8c1810a3-0d6e-4910-8434-3d0a27f7080c"
      },
      "execution_count": 2,
      "outputs": [
        {
          "output_type": "stream",
          "name": "stdout",
          "text": [
            "Colab notebook detected. To show errors in colab notebook, set `debug=True` in `launch()`\n",
            "Running on public URL: https://34116.gradio.app\n",
            "\n",
            "This share link expires in 72 hours. For free permanent hosting, check out Spaces (https://huggingface.co/spaces)\n"
          ]
        },
        {
          "output_type": "display_data",
          "data": {
            "text/plain": [
              "<IPython.lib.display.IFrame at 0x7fc030a92190>"
            ],
            "text/html": [
              "\n",
              "        <iframe\n",
              "            width=\"900\"\n",
              "            height=\"500\"\n",
              "            src=\"https://34116.gradio.app\"\n",
              "            frameborder=\"0\"\n",
              "            allowfullscreen\n",
              "        ></iframe>\n",
              "        "
            ]
          },
          "metadata": {}
        },
        {
          "output_type": "execute_result",
          "data": {
            "text/plain": [
              "(<fastapi.applications.FastAPI at 0x7fc039e8f050>,\n",
              " 'http://127.0.0.1:7860/',\n",
              " 'https://34116.gradio.app')"
            ]
          },
          "metadata": {},
          "execution_count": 2
        }
      ]
    }
  ]
}